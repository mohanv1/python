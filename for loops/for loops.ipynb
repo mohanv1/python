{
 "cells": [
  {
   "cell_type": "code",
   "execution_count": 135,
   "id": "47071de9-8c74-4ceb-a2fe-887bdf20c799",
   "metadata": {},
   "outputs": [
    {
     "name": "stdout",
     "output_type": "stream",
     "text": [
      "1505 1540 1575 1610 1645 1680 1715 1750 1785 1820 1855 1890 1925 1960 1995 2030 2065 2100 2135 2170 2205 2240 2275 2310 2345 2380 2415 2450 2485 2520 2555 2590 2625 2660 2695 "
     ]
    }
   ],
   "source": [
    "# 1) Write a Python program to find those numbers which are divisible by 7 and multiple of 5, between 1500 and 2700 (both included).\n",
    "\n",
    "for i in range(1500,2701):\n",
    "    if i%7==0 and i%5==0:\n",
    "        print(i,end=' ')\n"
   ]
  },
  {
   "cell_type": "code",
   "execution_count": 2,
   "id": "4bc2d235-e463-4976-a570-5224ddbbcf46",
   "metadata": {},
   "outputs": [
    {
     "name": "stdout",
     "output_type": "stream",
     "text": [
      "Even count is: 50\n",
      "Odd count is: 50\n"
     ]
    }
   ],
   "source": [
    "# 2) Write a Python program to count the number of even and odd numbers from a series of numbers\n",
    "even,odd=0,0\n",
    "for i in range(1,101):\n",
    "    if i%2==0:\n",
    "        even+=1\n",
    "    else:\n",
    "        odd+=1\n",
    "print(\"Even count is:\",even)\n",
    "print(\"Odd count is:\",odd)"
   ]
  },
  {
   "cell_type": "code",
   "execution_count": 3,
   "id": "03a1810e-9093-4a2f-967b-074754c3e782",
   "metadata": {},
   "outputs": [
    {
     "name": "stdout",
     "output_type": "stream",
     "text": [
      "0 1 2 3 4 5 6 7 8 9 10 "
     ]
    }
   ],
   "source": [
    "# 3) Write a Python program to print all numbers from 0 to 10 using a for loop.\n",
    "for i in range(0, 11):\n",
    "    print(i, end=\" \")"
   ]
  },
  {
   "cell_type": "code",
   "execution_count": 4,
   "id": "072c154d-06d7-4826-864b-c81633b34adc",
   "metadata": {},
   "outputs": [
    {
     "name": "stdout",
     "output_type": "stream",
     "text": [
      "Square number for 0 is: 0\n",
      "Square number for 1 is: 1\n",
      "Square number for 2 is: 4\n",
      "Square number for 3 is: 9\n",
      "Square number for 4 is: 16\n",
      "Square number for 5 is: 25\n",
      "Square number for 6 is: 36\n",
      "Square number for 7 is: 49\n",
      "Square number for 8 is: 64\n",
      "Square number for 9 is: 81\n",
      "Square number for 10 is: 100\n"
     ]
    }
   ],
   "source": [
    "# 4) Write a Python program to print the square of all numbers from 0 to 10 using a for loop.\n",
    "\n",
    "for i in range(0,11):\n",
    "    print(\"Square number for\",i,\"is:\",i**2)\n"
   ]
  },
  {
   "cell_type": "code",
   "execution_count": 5,
   "id": "9e195b2a-6375-401f-9db7-b5a747c42793",
   "metadata": {},
   "outputs": [
    {
     "name": "stdout",
     "output_type": "stream",
     "text": [
      "0\n",
      "1\n",
      "2\n",
      "4\n",
      "5\n"
     ]
    }
   ],
   "source": [
    "# 5)  Write a Python program that prints all the numbers from 0 to 6 except 3 and 6.\n",
    "\n",
    "for i in range(0,7):\n",
    "    if i!=3 and i!=6:\n",
    "        print(i)\n"
   ]
  },
  {
   "cell_type": "code",
   "execution_count": 6,
   "id": "f42ebcbe-de6c-4979-9757-9160b62de8cb",
   "metadata": {},
   "outputs": [
    {
     "name": "stdout",
     "output_type": "stream",
     "text": [
      "0 1 1 2 3 5 8 13 21 34 "
     ]
    }
   ],
   "source": [
    "# 6) Write a Python program to get the Fibonacci series between 0 to 50.\n",
    "a,b=0,1\n",
    "for i in range(51):\n",
    "    if a>50:\n",
    "        break\n",
    "    print(a,end=\" \")\n",
    "    a,b=b,a+b\n"
   ]
  },
  {
   "cell_type": "code",
   "execution_count": 7,
   "id": "e94c4f43-fab9-4eab-81b7-d39e55ad256c",
   "metadata": {},
   "outputs": [
    {
     "name": "stdout",
     "output_type": "stream",
     "text": [
      "Sum of all number is: 75\n"
     ]
    }
   ],
   "source": [
    "# 7) Write a Python program to find the sum of all numbers in a list.\n",
    "\n",
    "list_ =[1,23,45,6]\n",
    "i=0\n",
    "for s in list_:\n",
    "    i+=s\n",
    "print(\"Sum of all number is:\",i)\n"
   ]
  },
  {
   "cell_type": "code",
   "execution_count": 11,
   "id": "d7508c39-3b85-4918-aa0d-519ad614dcc2",
   "metadata": {},
   "outputs": [
    {
     "name": "stdout",
     "output_type": "stream",
     "text": [
      "34944\n"
     ]
    }
   ],
   "source": [
    "# 8) Write a Python program to find the multiplication of all numbers in a list\n",
    "\n",
    "l=[2,4,56,78]\n",
    "m=1\n",
    "for i in l:\n",
    "    m=m*i\n",
    "print(m)    "
   ]
  },
  {
   "cell_type": "code",
   "execution_count": 20,
   "id": "9f6f5b41-661c-42c8-8241-1b082115a731",
   "metadata": {},
   "outputs": [
    {
     "name": "stdout",
     "output_type": "stream",
     "text": [
      "1 \n",
      "1 2 \n",
      "1 2 3 \n",
      "1 2 3 4 \n",
      "1 2 3 4 5 \n"
     ]
    }
   ],
   "source": [
    "# # 9) Write a Python program to print the pattern of numbers up to n lines. For example, if n=5, the pattern would be: \n",
    "# 1\n",
    "# 1 2\n",
    "# 1 2 3\n",
    "# 1 2 3 4\n",
    "# 1 2 3 4 5\n",
    "# sol:\n",
    "\n",
    "for i in range(1,6):\n",
    "    for j in range(1,i+1):\n",
    "        print(j, end=\" \")\n",
    "    print('')\n",
    "        \n"
   ]
  },
  {
   "cell_type": "code",
   "execution_count": 39,
   "id": "5ff6c995-b0ec-4072-a8fe-cb41746e3d02",
   "metadata": {},
   "outputs": [
    {
     "name": "stdout",
     "output_type": "stream",
     "text": [
      "1 2 3 4 5 \n",
      "1 2 3 4 \n",
      "1 2 3 \n",
      "1 2 \n",
      "1 \n",
      "\n"
     ]
    }
   ],
   "source": [
    "for i in range(6,0,-1):\n",
    "    for j in range(1,i):\n",
    "        print(j,end=' ')\n",
    "    print()    "
   ]
  },
  {
   "cell_type": "code",
   "execution_count": 171,
   "id": "3dfebc51-0d00-44b2-b240-e9a5473e8514",
   "metadata": {},
   "outputs": [
    {
     "name": "stdout",
     "output_type": "stream",
     "text": [
      "\n",
      "\n",
      "1 \n",
      "\n",
      "2 3 \n",
      "\n",
      "4 5 6 \n",
      "\n",
      "7 8 9 10 \n",
      "\n",
      "11 12 13 14 15 \n",
      "\n"
     ]
    }
   ],
   "source": [
    "h=0\n",
    "for i in range(1,7):\n",
    "    for j in range(1,i):\n",
    "        h+=1\n",
    "        print(h,end=' ')\n",
    "    print('\\n')    "
   ]
  },
  {
   "cell_type": "code",
   "execution_count": 136,
   "id": "c264526e-10b2-4321-a21c-162d4163a21e",
   "metadata": {},
   "outputs": [
    {
     "name": "stdout",
     "output_type": "stream",
     "text": [
      "15 \n",
      "\n",
      "14 13 \n",
      "\n",
      "12 11 10 \n",
      "\n",
      "9  8  7  6  \n",
      "\n",
      "5  4  3  2  1  \n",
      "\n"
     ]
    }
   ],
   "source": [
    "extra=0\n",
    "for i in range(5):\n",
    "    extra=extra+i\n",
    "start=5+extra\n",
    "for i in range(5):\n",
    "    for j in range(i+1):\n",
    "        print(format(start,'<3'),end='')\n",
    "        start=start-1\n",
    "    print(\"\\n\")    \n",
    "    "
   ]
  },
  {
   "cell_type": "code",
   "execution_count": 119,
   "id": "4c6a0e7b-a736-40ef-9ccf-e1cc81ab7bd1",
   "metadata": {},
   "outputs": [
    {
     "name": "stdout",
     "output_type": "stream",
     "text": [
      "P \n",
      "\n",
      "y y \n",
      "\n",
      "t t t \n",
      "\n",
      "h h h h \n",
      "\n",
      "o o o o o \n",
      "\n",
      "n n n n n n \n",
      "\n"
     ]
    }
   ],
   "source": [
    "a=\"Python\"\n",
    "l=len(str(a))\n",
    "for i in range(l):\n",
    "    for j in range(i+1):\n",
    "        print(a[i],end=' ')\n",
    "    print('\\n')    "
   ]
  },
  {
   "cell_type": "code",
   "execution_count": null,
   "id": "d79fe84d-80bc-48a9-99f4-219860f6dd3b",
   "metadata": {},
   "outputs": [],
   "source": []
  },
  {
   "cell_type": "code",
   "execution_count": 127,
   "id": "f9ce9da8-598d-426e-a416-4a943ac4e213",
   "metadata": {},
   "outputs": [
    {
     "name": "stdout",
     "output_type": "stream",
     "text": [
      "p \n",
      "\n",
      "p y \n",
      "\n",
      "p y t \n",
      "\n",
      "p y t h \n",
      "\n",
      "p y t h o \n",
      "\n",
      "p y t h o n \n",
      "\n"
     ]
    }
   ],
   "source": [
    "a=\"python\"\n",
    "l=len(str(a))\n",
    "for i in range(l):\n",
    "    for j in range(i+1):\n",
    "        print(a[j],end=' ')\n",
    "    print('\\n')   "
   ]
  },
  {
   "cell_type": "code",
   "execution_count": 129,
   "id": "1e61b638-7308-4785-ab51-67b7c9ce2aff",
   "metadata": {},
   "outputs": [
    {
     "name": "stdout",
     "output_type": "stream",
     "text": [
      "p y t h o n \n",
      "\n",
      "p y t h o \n",
      "\n",
      "p y t h \n",
      "\n",
      "p y t \n",
      "\n",
      "p y \n",
      "\n",
      "p \n",
      "\n"
     ]
    }
   ],
   "source": [
    "a=\"python\"\n",
    "l=len(str(a))\n",
    "for i in range(l):\n",
    "    for j in range(l-i):\n",
    "        print(a[j],end=' ')\n",
    "    print('\\n')   "
   ]
  },
  {
   "cell_type": "code",
   "execution_count": 134,
   "id": "83d22384-3f59-403b-b511-2efdaaee0745",
   "metadata": {},
   "outputs": [
    {
     "name": "stdout",
     "output_type": "stream",
     "text": [
      "P y t h o n \n",
      "\n",
      "  P y t h o \n",
      "\n",
      "    P y t h \n",
      "\n",
      "      P y t \n",
      "\n",
      "        P y \n",
      "\n",
      "          P \n",
      "\n"
     ]
    }
   ],
   "source": [
    "a=\"Python\"\n",
    "l=len(str(a))\n",
    "for i in range(l):\n",
    "    for j in range(i):\n",
    "        print(' ',end=\" \")\n",
    "    for j in range(l-i):\n",
    "        print(a[j],end=' ')\n",
    "    print('\\n')    "
   ]
  },
  {
   "cell_type": "code",
   "execution_count": 167,
   "id": "99f34d77-f958-42cf-98ee-533e0cadaf8f",
   "metadata": {},
   "outputs": [
    {
     "name": "stdout",
     "output_type": "stream",
     "text": [
      "n n n n n n \n",
      "\n",
      "  o o o o o \n",
      "\n",
      "    h h h h \n",
      "\n",
      "      t t t \n",
      "\n",
      "        y y \n",
      "\n",
      "          P \n",
      "\n"
     ]
    }
   ],
   "source": [
    "a=\"Python\"\n",
    "l=len(str(a))\n",
    "for i in range(l-1,-1,-1):\n",
    "    for j in range(l-i-1):\n",
    "        print(' ',end=\" \")\n",
    "    for j in range(i+1):\n",
    "        print(a[i],end=' ')\n",
    "    print('\\n')    "
   ]
  },
  {
   "cell_type": "code",
   "execution_count": 2,
   "id": "0077cda9-3abb-4191-8717-b7b11e4aeffe",
   "metadata": {},
   "outputs": [
    {
     "name": "stdout",
     "output_type": "stream",
     "text": [
      "        1 \n",
      "\n",
      "      1 3 5 \n",
      "\n",
      "    5 7 9 11 13 \n",
      "\n",
      "  13 15 17 19 21 23 25 \n",
      "\n",
      "25 27 29 31 33 35 37 39 41 \n",
      "\n"
     ]
    }
   ],
   "source": [
    "n = 5\n",
    "num = 1\n",
    "\n",
    "# Loop for each row in the pyramid\n",
    "for i in range(1, n+1):\n",
    "\n",
    "    # Print spaces before each row\n",
    "    for j in range(n-i):\n",
    "        print(\" \", end=\" \")\n",
    "\n",
    "    # Print odd numbers on the left side\n",
    "    for k in range(i):\n",
    "        print(num, end=\" \")\n",
    "        num += 2  # Increase by 2 to get the next odd number\n",
    "\n",
    "    num -= 2  # Decrease by 2 to get the last odd number for the row\n",
    "\n",
    "    # Print even numbers on the right side\n",
    "    for l in range(i-1, 0, -1):\n",
    "        num += 2  # Increase by 2 to get the next even number\n",
    "        print(num, end=\" \")\n",
    "\n",
    "    print(\"\\n\")\n"
   ]
  },
  {
   "cell_type": "code",
   "execution_count": 3,
   "id": "5f802142-fc15-4ff4-a6ce-9d57dfcc550c",
   "metadata": {},
   "outputs": [
    {
     "name": "stdout",
     "output_type": "stream",
     "text": [
      "* * * * * \n",
      "\n",
      "*       * \n",
      "\n",
      "*       * \n",
      "\n",
      "*       * \n",
      "\n",
      "* * * * * \n",
      "\n"
     ]
    }
   ],
   "source": [
    "n = 5  # size of the square\n",
    "\n",
    "for i in range(n):\n",
    "    for j in range(n):\n",
    "        if i==0 or i==n-1 or j==0 or j==n-1:\n",
    "            print('*', end=' ')\n",
    "        else:\n",
    "            print(' ', end=' ')\n",
    "    print('\\n')\n"
   ]
  },
  {
   "cell_type": "code",
   "execution_count": 4,
   "id": "9d69094a-56ff-44f5-9c87-0b66a7c071a6",
   "metadata": {},
   "outputs": [
    {
     "name": "stdout",
     "output_type": "stream",
     "text": [
      "* \n",
      "\n",
      "* * \n",
      "\n",
      "*   * \n",
      "\n",
      "*     * \n",
      "\n",
      "* * * * * \n",
      "\n"
     ]
    }
   ],
   "source": [
    "n = 5  # height of the triangle\n",
    "\n",
    "for i in range(n):\n",
    "    for j in range(i+1):\n",
    "        if i==n-1 or j==0 or j==i:\n",
    "            print('*', end=' ')\n",
    "        else:\n",
    "            print(' ', end=' ')\n",
    "    print('\\n')\n"
   ]
  },
  {
   "cell_type": "code",
   "execution_count": 7,
   "id": "06669235-2c23-4821-876f-e19289035baa",
   "metadata": {},
   "outputs": [
    {
     "name": "stdout",
     "output_type": "stream",
     "text": [
      "*                *\n",
      "**              **\n",
      "***            ***\n",
      "****          ****\n",
      "*****        *****\n",
      "******      ******\n",
      "*******    *******\n",
      "********  ********\n",
      "******************\n",
      "******************\n",
      "********  ********\n",
      "*******    *******\n",
      "******      ******\n",
      "*****        *****\n",
      "****          ****\n",
      "***            ***\n",
      "**              **\n",
      "*                *\n"
     ]
    }
   ],
   "source": [
    "n = 9  # size of the butterfly\n",
    "\n",
    "for i in range(n):\n",
    "    print('*'*(i+1) + '  '*(n-i-1) + '*'*(i+1))\n",
    "for i in range(n-1, -1, -1):\n",
    "    print('*'*(i+1) + '  '*(n-i-1) + '*'*(i+1))\n"
   ]
  },
  {
   "cell_type": "code",
   "execution_count": 8,
   "id": "bff751f0-ad30-4204-b357-3cfb3be2cf23",
   "metadata": {},
   "outputs": [
    {
     "name": "stdout",
     "output_type": "stream",
     "text": [
      "    *\n",
      "   ***\n",
      "  *****\n",
      " *******\n",
      "*********\n",
      " *******\n",
      "  *****\n",
      "   ***\n",
      "    *\n"
     ]
    }
   ],
   "source": [
    "n = 5  # size of the diamond\n",
    "\n",
    "for i in range(n):\n",
    "    print(' '*(n-i-1) + '*'*(2*i+1))\n",
    "for i in range(n-2, -1, -1):\n",
    "    print(' '*(n-i-1) + '*'*(2*i+1))\n"
   ]
  },
  {
   "cell_type": "code",
   "execution_count": 9,
   "id": "35f386cf-2426-401f-9bbf-a2fbe9301587",
   "metadata": {},
   "outputs": [
    {
     "name": "stdout",
     "output_type": "stream",
     "text": [
      "*********\n",
      " *******\n",
      "  *****\n",
      "   ***\n",
      "    *\n",
      "   ***\n",
      "  *****\n",
      " *******\n",
      "*********\n"
     ]
    }
   ],
   "source": [
    "n = 5  # size of the hourglass\n",
    "\n",
    "for i in range(n, 0, -1):\n",
    "    print(' '*(n-i) + '*'*(2*i-1))\n",
    "for i in range(2, n+1):\n",
    "    print(' '*(n-i) + '*'*(2*i-1))\n"
   ]
  },
  {
   "cell_type": "code",
   "execution_count": 13,
   "id": "931d41f1-d846-4161-b2dd-5d8557ee0adb",
   "metadata": {},
   "outputs": [
    {
     "name": "stdout",
     "output_type": "stream",
     "text": [
      "*   *   * \n",
      "\n",
      "  *   *   \n",
      "\n",
      "*   *   * \n",
      "\n",
      "  *   *   \n",
      "\n",
      "*   *   * \n",
      "\n"
     ]
    }
   ],
   "source": [
    "n = 5  # height of the zigzag\n",
    "\n",
    "for i in range(n):\n",
    "    for j in range(n):\n",
    "        if (i+j)%2 == 0:\n",
    "            print('*', end=' ')\n",
    "        else:\n",
    "            print(' ', end=' ')\n",
    "    print('\\n')\n"
   ]
  },
  {
   "cell_type": "code",
   "execution_count": null,
   "id": "3df94ba8-aba7-4583-8180-635d5b522400",
   "metadata": {},
   "outputs": [],
   "source": []
  }
 ],
 "metadata": {
  "kernelspec": {
   "display_name": "Python 3 (ipykernel)",
   "language": "python",
   "name": "python3"
  },
  "language_info": {
   "codemirror_mode": {
    "name": "ipython",
    "version": 3
   },
   "file_extension": ".py",
   "mimetype": "text/x-python",
   "name": "python",
   "nbconvert_exporter": "python",
   "pygments_lexer": "ipython3",
   "version": "3.11.7"
  }
 },
 "nbformat": 4,
 "nbformat_minor": 5
}
