{
 "cells": [
  {
   "cell_type": "code",
   "execution_count": 2,
   "id": "9fbe152d-ee72-475d-b2f5-a2ce61575c7f",
   "metadata": {},
   "outputs": [
    {
     "name": "stdin",
     "output_type": "stream",
     "text": [
      "Enter the age: 17\n"
     ]
    },
    {
     "name": "stdout",
     "output_type": "stream",
     "text": [
      "You cannot vote\n"
     ]
    }
   ],
   "source": [
    "#1) Basic if statement: Write a program to check whether a person is eligible for voting or not. Accept the age from the user\n",
    "\n",
    "age=int(input(\"Enter the age:\"))\n",
    "if age>=18:\n",
    "    print(\"You can vote\")\n",
    "else:\n",
    "    print(\"You cannot vote\")"
   ]
  },
  {
   "cell_type": "code",
   "execution_count": 5,
   "id": "8f6447e6-e8f7-4b8e-8019-588bd56badcb",
   "metadata": {},
   "outputs": [
    {
     "name": "stdin",
     "output_type": "stream",
     "text": [
      "Enter the number 8\n"
     ]
    },
    {
     "name": "stdout",
     "output_type": "stream",
     "text": [
      "Even\n"
     ]
    }
   ],
   "source": [
    "#2) Even or Odd: Write a program to check whether a number entered by the user is even or odd.\n",
    "\n",
    "num=int(input(\"Enter the number\"))\n",
    "if num%2==0:\n",
    "    print(\"Even\")\n",
    "else:\n",
    "    print(\"Odd\")"
   ]
  },
  {
   "cell_type": "code",
   "execution_count": 9,
   "id": "08666b3a-910a-4588-b623-1917297fa1c6",
   "metadata": {},
   "outputs": [
    {
     "name": "stdin",
     "output_type": "stream",
     "text": [
      "Enter the number 14\n"
     ]
    },
    {
     "name": "stdout",
     "output_type": "stream",
     "text": [
      "Divisible by 7\n"
     ]
    }
   ],
   "source": [
    "#3) Divisibility: Write a program to check whether a number is divisible by 7 or not.\n",
    "\n",
    "num=int(input(\"Enter the number\"))\n",
    "if num%7==0:\n",
    "    print(\"Divisible by 7\")\n",
    "else:\n",
    "    print(\"Not divisible by 7\")"
   ]
  },
  {
   "cell_type": "code",
   "execution_count": 11,
   "id": "753f2ca5-9197-430e-8f3e-fa9eac92823c",
   "metadata": {},
   "outputs": [
    {
     "name": "stdin",
     "output_type": "stream",
     "text": [
      "Enter a character a\n"
     ]
    },
    {
     "name": "stdout",
     "output_type": "stream",
     "text": [
      "It is vowel\n"
     ]
    }
   ],
   "source": [
    "#4) write a program to check a character is vowel or not\n",
    "\n",
    "c=input(\"Enter a character\")\n",
    "vow=\"aeiouAEIOU\"\n",
    "if c in vow:\n",
    "    print(\"It is vowel\")\n",
    "else:\n",
    "    print(\"Not vowel\")\n",
    "\n"
   ]
  },
  {
   "cell_type": "code",
   "execution_count": 15,
   "id": "804f209e-60a5-48d7-8d0d-f9c91a444f91",
   "metadata": {},
   "outputs": [
    {
     "name": "stdin",
     "output_type": "stream",
     "text": [
      "Enter no of working days: 78\n",
      "Enter no of days abscent 15\n"
     ]
    },
    {
     "name": "stdout",
     "output_type": "stream",
     "text": [
      "Your percentage is: 80.76923076923077\n",
      "you are eligible\n"
     ]
    }
   ],
   "source": [
    "#5) calculating percentage of class attendance\n",
    "\n",
    "wor=int(input(\"Enter no of working days:\"))\n",
    "na=int(input(\"Enter no of days abscent\"))\n",
    "percentage=(wor-na)/wor*100\n",
    "print(\"Your percentage is:\",percentage)\n",
    "if percentage <75:\n",
    "    print(\"You are not eligible for exam\")\n",
    "else:\n",
    "    print(\"you are eligible\")\n",
    "    \n"
   ]
  },
  {
   "cell_type": "code",
   "execution_count": 19,
   "id": "81e4fbaf-00ef-4773-a831-c68f00f77dd6",
   "metadata": {},
   "outputs": [
    {
     "name": "stdin",
     "output_type": "stream",
     "text": [
      "Time period of service: 7\n",
      "Enter salary 7\n"
     ]
    },
    {
     "name": "stdout",
     "output_type": "stream",
     "text": [
      "Bonus is 0.7000000000000001\n"
     ]
    }
   ],
   "source": [
    "# #6) A company decided to give bonus to employee according to following criteria:\n",
    "#   TIME OF SERIVICE      BONUS\n",
    "#   more than 10 years     15%\n",
    "#   >=6 and <10            10%\n",
    "#   less than 6 years       5%\n",
    "\n",
    "\n",
    "service=int(input(\"Time period of service:\"))\n",
    "sa=int(input(\"Enter salary\"))\n",
    "if service>=10:\n",
    "    b=15/100*sa\n",
    "if service>=6 and service<=10:\n",
    "    b=10/100*sa\n",
    "if service<6:\n",
    "    b=5/100*sa\n",
    "print(\"Bonus is\",b)    "
   ]
  },
  {
   "cell_type": "code",
   "execution_count": 20,
   "id": "d52375ec-11e5-4a7f-8b0a-46a1fbe50017",
   "metadata": {},
   "outputs": [
    {
     "name": "stdin",
     "output_type": "stream",
     "text": [
      "Enter a character:  dhff\n"
     ]
    },
    {
     "name": "stdout",
     "output_type": "stream",
     "text": [
      "dhff is a lowercase consonant\n"
     ]
    }
   ],
   "source": [
    "# #7)Write a Python program that accepts a character from the user. The program should check if the character is a vowel or consonant.\n",
    "# If it’s a vowel, check if it’s uppercase or lowercase. If it’s a consonant, also check if it’s uppercase or lowercase.\n",
    "\n",
    "char = input(\"Enter a character: \")\n",
    "\n",
    "if char.lower() in ['a', 'e', 'i', 'o', 'u']:\n",
    "    if char.isupper():\n",
    "        print(char, \"is an uppercase vowel\")\n",
    "    else:\n",
    "        print(char, \"is a lowercase vowel\")\n",
    "elif char.isalpha():\n",
    "    if char.isupper():\n",
    "        print(char, \"is an uppercase consonant\")\n",
    "    else:\n",
    "        print(char, \"is a lowercase consonant\")\n",
    "else:\n",
    "    print(\"Invalid input\")\n"
   ]
  },
  {
   "cell_type": "code",
   "execution_count": null,
   "id": "a172767c-25d5-4f90-a0cc-f7200f253eee",
   "metadata": {},
   "outputs": [],
   "source": [
    "# #8) Write a Python program that accepts an integer (n) from the user. The program should print whether the number is a positive, negative or zero. \n",
    "# If it’s positive, check if it’s divisible by 2 and 3 but not 6. If it’s negative, check if it’s divisible by 3 but not 2.\n",
    "\n",
    "n = int(input(\"Enter a number: \"))\n",
    "\n",
    "if n > 0:\n",
    "    if n % 2 == 0 and n % 3 == 0 and n % 6 != 0:\n",
    "        print(n, \"is a positive number and divisible by 2 and 3 but not 6\")\n",
    "    else:\n",
    "        print(n, \"is a positive number but not divisible by 2 and 3 but not 6\")\n",
    "elif n < 0:\n",
    "    if n % 3 == 0 and n % 2 != 0:\n",
    "        print(n, \"is a negative number and divisible by 3 but not 2\")\n",
    "    else:\n",
    "        print(n, \"is a negative number but not divisible by 3 but not 2\")\n",
    "else:\n",
    "    print(n, \"is zero\")\n"
   ]
  },
  {
   "cell_type": "code",
   "execution_count": null,
   "id": "65a6eabf-e4d5-4e85-a143-65b1481554bf",
   "metadata": {},
   "outputs": [],
   "source": [
    "# #9) A university grades their students using the following system: A for 90-100, B for 80-89, C for 70-79, D for 60-69, and F for below 60. \n",
    "# However, if a student’s attendance rate is below 75%, they fail the course regardless of their score. \n",
    "# Write a Python program that accepts a student’s score and attendance rate, and prints their final grade.\n",
    "\n",
    "score = int(input(\"Enter the student's score: \"))\n",
    "attendance_rate = float(input(\"Enter the student's attendance rate: \"))\n",
    "\n",
    "if attendance_rate < 75:\n",
    "    grade = \"F (Failed due to low attendance)\"\n",
    "else:\n",
    "    if 90 <= score <= 100:\n",
    "        grade = \"A\"\n",
    "    elif 80 <= score < 90:\n",
    "        grade = \"B\"\n",
    "    elif 70 <= score < 80:\n",
    "        grade = \"C\"\n",
    "    elif 60 <= score < 70:\n",
    "        grade = \"D\"\n",
    "    else:\n",
    "        grade = \"F\"\n",
    "\n",
    "print(\"The student's final grade is\", grade)\n"
   ]
  },
  {
   "cell_type": "code",
   "execution_count": null,
   "id": "d7cd4088-90e4-4444-a5cb-e100ac8c030e",
   "metadata": {},
   "outputs": [],
   "source": []
  },
  {
   "cell_type": "code",
   "execution_count": null,
   "id": "b051b415-2fa4-4c7f-868e-4223c4fde836",
   "metadata": {},
   "outputs": [],
   "source": []
  },
  {
   "cell_type": "code",
   "execution_count": null,
   "id": "11ee7258-83ad-449f-95e3-11e557b7c981",
   "metadata": {},
   "outputs": [],
   "source": []
  },
  {
   "cell_type": "code",
   "execution_count": null,
   "id": "e40df989-3573-468a-aee9-02ebb00cda36",
   "metadata": {},
   "outputs": [],
   "source": []
  },
  {
   "cell_type": "code",
   "execution_count": null,
   "id": "3f7d4337-64d4-4c25-8c1b-439102986220",
   "metadata": {},
   "outputs": [],
   "source": []
  },
  {
   "cell_type": "code",
   "execution_count": null,
   "id": "ae2e4fac-0b55-4db1-82cb-e3c023448057",
   "metadata": {},
   "outputs": [],
   "source": []
  },
  {
   "cell_type": "code",
   "execution_count": null,
   "id": "a5013cb1-a70b-4fdd-b6cf-eae3c3770c94",
   "metadata": {},
   "outputs": [],
   "source": []
  }
 ],
 "metadata": {
  "kernelspec": {
   "display_name": "Python 3 (ipykernel)",
   "language": "python",
   "name": "python3"
  },
  "language_info": {
   "codemirror_mode": {
    "name": "ipython",
    "version": 3
   },
   "file_extension": ".py",
   "mimetype": "text/x-python",
   "name": "python",
   "nbconvert_exporter": "python",
   "pygments_lexer": "ipython3",
   "version": "3.11.7"
  }
 },
 "nbformat": 4,
 "nbformat_minor": 5
}
